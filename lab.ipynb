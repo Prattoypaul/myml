{
  "nbformat": 4,
  "nbformat_minor": 0,
  "metadata": {
    "colab": {
      "name": "lab.ipynb",
      "provenance": [],
      "authorship_tag": "ABX9TyOePucZCyejbrW1550BsZ+X",
      "include_colab_link": true
    },
    "kernelspec": {
      "name": "python3",
      "display_name": "Python 3"
    }
  },
  "cells": [
    {
      "cell_type": "markdown",
      "metadata": {
        "id": "view-in-github",
        "colab_type": "text"
      },
      "source": [
        "<a href=\"https://colab.research.google.com/github/Prattoypaul/myml/blob/main/lab.ipynb\" target=\"_parent\"><img src=\"https://colab.research.google.com/assets/colab-badge.svg\" alt=\"Open In Colab\"/></a>"
      ]
    },
    {
      "cell_type": "code",
      "metadata": {
        "id": "LiQ5Vf9mz5rN"
      },
      "source": [
        "courses = []\r\n",
        "choice = 'random'"
      ],
      "execution_count": 1,
      "outputs": []
    },
    {
      "cell_type": "code",
      "metadata": {
        "id": "tAJ1Yegp9yZu"
      },
      "source": [
        "def line():\r\n",
        "    print('---------------------------------------------')"
      ],
      "execution_count": 2,
      "outputs": []
    },
    {
      "cell_type": "code",
      "metadata": {
        "id": "e9dE1HA891qr"
      },
      "source": [
        "def show_menu():\r\n",
        "    line()\r\n",
        "    print('Options')\r\n",
        "    line()\r\n",
        "    print('1. Add new course')\r\n",
        "    print('2. Remove a course')\r\n",
        "    print('3. View all courses')\r\n",
        "    print('4. Exit')\r\n",
        "    line()\r\n",
        "    choice = input('Enter your choice: ')\r\n",
        "    return choice"
      ],
      "execution_count": 3,
      "outputs": []
    },
    {
      "cell_type": "code",
      "metadata": {
        "colab": {
          "base_uri": "https://localhost:8080/"
        },
        "id": "IZX3WUZw9-Q2",
        "outputId": "2426ec1e-427f-4684-a090-17c00ffa1360"
      },
      "source": [
        "while choice!= '4':\r\n",
        "    choice = show_menu()\r\n",
        "    if choice == '1':\r\n",
        "        item = input('Course Name: ')\r\n",
        "        courses.append(item)\r\n",
        "        print('Course ',item,' added')\r\n",
        "    elif choice =='2':\r\n",
        "        item = input('Which course do you want to remove or unroll? ')\r\n",
        "        if item in courses:\r\n",
        "            courses.remove(item)\r\n",
        "            print('Unrolled from ',item,' course')\r\n",
        "        else:\r\n",
        "            print('You are not enrolled in this course')\r\n",
        "    elif choice == '3':\r\n",
        "        print('List of all enrolled courses:')\r\n",
        "        for item in courses:\r\n",
        "            print(item)\r\n",
        "    elif choice == '4':\r\n",
        "        print('Bye')\r\n",
        "    else:\r\n",
        "        print('Please enter one of 1,2,3 or 4')"
      ],
      "execution_count": 4,
      "outputs": [
        {
          "output_type": "stream",
          "text": [
            "---------------------------------------------\n",
            "Options\n",
            "---------------------------------------------\n",
            "1. Add new course\n",
            "2. Remove a course\n",
            "3. View all courses\n",
            "4. Exit\n",
            "---------------------------------------------\n",
            "Enter your choice: 3\n",
            "List of all enrolled courses:\n",
            "---------------------------------------------\n",
            "Options\n",
            "---------------------------------------------\n",
            "1. Add new course\n",
            "2. Remove a course\n",
            "3. View all courses\n",
            "4. Exit\n",
            "---------------------------------------------\n",
            "Enter your choice: 1\n",
            "Course Name: DBMS\n",
            "Course  DBMS  added\n",
            "---------------------------------------------\n",
            "Options\n",
            "---------------------------------------------\n",
            "1. Add new course\n",
            "2. Remove a course\n",
            "3. View all courses\n",
            "4. Exit\n",
            "---------------------------------------------\n",
            "Enter your choice: 4\n",
            "Bye\n"
          ],
          "name": "stdout"
        }
      ]
    }
  ]
}