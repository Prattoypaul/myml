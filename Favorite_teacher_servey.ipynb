{
  "nbformat": 4,
  "nbformat_minor": 0,
  "metadata": {
    "colab": {
      "name": "Favorite_teacher_servey.ipynb",
      "provenance": [],
      "collapsed_sections": [],
      "authorship_tag": "ABX9TyMUqYAhAmwTbGXXSiyz+Gxm",
      "include_colab_link": true
    },
    "kernelspec": {
      "name": "python3",
      "display_name": "Python 3"
    },
    "language_info": {
      "name": "python"
    }
  },
  "cells": [
    {
      "cell_type": "markdown",
      "metadata": {
        "id": "view-in-github",
        "colab_type": "text"
      },
      "source": [
        "<a href=\"https://colab.research.google.com/github/Prattoypaul/myml/blob/main/Favorite_teacher_servey.ipynb\" target=\"_parent\"><img src=\"https://colab.research.google.com/assets/colab-badge.svg\" alt=\"Open In Colab\"/></a>"
      ]
    },
    {
      "cell_type": "markdown",
      "metadata": {
        "id": "tw8jBtP6ob6w"
      },
      "source": [
        "**Import** **Libraries**"
      ]
    },
    {
      "cell_type": "code",
      "metadata": {
        "id": "63SCeSBq4Qv2"
      },
      "source": [
        "import numpy as np\n",
        "import pandas as pd\n",
        "import matplotlib.pyplot as plt\n",
        "import seaborn as sb"
      ],
      "execution_count": 1,
      "outputs": []
    },
    {
      "cell_type": "code",
      "metadata": {
        "colab": {
          "base_uri": "https://localhost:8080/"
        },
        "id": "YOfkK53V5AGR",
        "outputId": "13fbe370-ba69-4acd-94f6-5896ebb9c118"
      },
      "source": [
        "from google.colab import drive\n",
        "drive.mount('/content/gdrive')"
      ],
      "execution_count": 2,
      "outputs": [
        {
          "output_type": "stream",
          "text": [
            "Mounted at /content/gdrive\n"
          ],
          "name": "stdout"
        }
      ]
    },
    {
      "cell_type": "code",
      "metadata": {
        "id": "LFr_OubR5_ZE"
      },
      "source": [
        "data=pd.read_csv('gdrive/My Drive/Colab Notebooks/projectnew/teacher_servey.csv')"
      ],
      "execution_count": 3,
      "outputs": []
    },
    {
      "cell_type": "code",
      "metadata": {
        "colab": {
          "base_uri": "https://localhost:8080/",
          "height": 436
        },
        "id": "Tj4LS6re7zte",
        "outputId": "7ca50c8e-181c-416d-f483-6e3289859272"
      },
      "source": [
        "data"
      ],
      "execution_count": 4,
      "outputs": [
        {
          "output_type": "execute_result",
          "data": {
            "text/html": [
              "<div>\n",
              "<style scoped>\n",
              "    .dataframe tbody tr th:only-of-type {\n",
              "        vertical-align: middle;\n",
              "    }\n",
              "\n",
              "    .dataframe tbody tr th {\n",
              "        vertical-align: top;\n",
              "    }\n",
              "\n",
              "    .dataframe thead th {\n",
              "        text-align: right;\n",
              "    }\n",
              "</style>\n",
              "<table border=\"1\" class=\"dataframe\">\n",
              "  <thead>\n",
              "    <tr style=\"text-align: right;\">\n",
              "      <th></th>\n",
              "      <th>Age(Approximately)</th>\n",
              "      <th>Gender</th>\n",
              "      <th>Punctuality</th>\n",
              "      <th>Friendly</th>\n",
              "      <th>Teaching strategies</th>\n",
              "      <th>Analysis the Students</th>\n",
              "      <th>Helpful</th>\n",
              "      <th>Motivation learning</th>\n",
              "      <th>manage the class</th>\n",
              "      <th>Democratic</th>\n",
              "      <th>Angriness</th>\n",
              "      <th>Favourite or Not?</th>\n",
              "    </tr>\n",
              "  </thead>\n",
              "  <tbody>\n",
              "    <tr>\n",
              "      <th>0</th>\n",
              "      <td>40.0</td>\n",
              "      <td>Male</td>\n",
              "      <td>5</td>\n",
              "      <td>5.0</td>\n",
              "      <td>5.0</td>\n",
              "      <td>5</td>\n",
              "      <td>5.0</td>\n",
              "      <td>5.0</td>\n",
              "      <td>5.0</td>\n",
              "      <td>5</td>\n",
              "      <td>3</td>\n",
              "      <td>Yes</td>\n",
              "    </tr>\n",
              "    <tr>\n",
              "      <th>1</th>\n",
              "      <td>35.0</td>\n",
              "      <td>Male</td>\n",
              "      <td>1</td>\n",
              "      <td>1.0</td>\n",
              "      <td>1.0</td>\n",
              "      <td>3</td>\n",
              "      <td>1.0</td>\n",
              "      <td>1.0</td>\n",
              "      <td>1.0</td>\n",
              "      <td>3</td>\n",
              "      <td>1</td>\n",
              "      <td>No</td>\n",
              "    </tr>\n",
              "    <tr>\n",
              "      <th>2</th>\n",
              "      <td>40.0</td>\n",
              "      <td>Male</td>\n",
              "      <td>5</td>\n",
              "      <td>5.0</td>\n",
              "      <td>5.0</td>\n",
              "      <td>5</td>\n",
              "      <td>5.0</td>\n",
              "      <td>5.0</td>\n",
              "      <td>5.0</td>\n",
              "      <td>4</td>\n",
              "      <td>2</td>\n",
              "      <td>Yes</td>\n",
              "    </tr>\n",
              "    <tr>\n",
              "      <th>3</th>\n",
              "      <td>29.0</td>\n",
              "      <td>Female</td>\n",
              "      <td>5</td>\n",
              "      <td>5.0</td>\n",
              "      <td>5.0</td>\n",
              "      <td>5</td>\n",
              "      <td>5.0</td>\n",
              "      <td>5.0</td>\n",
              "      <td>5.0</td>\n",
              "      <td>5</td>\n",
              "      <td>3</td>\n",
              "      <td>Yes</td>\n",
              "    </tr>\n",
              "    <tr>\n",
              "      <th>4</th>\n",
              "      <td>30.0</td>\n",
              "      <td>Female</td>\n",
              "      <td>4</td>\n",
              "      <td>3.0</td>\n",
              "      <td>3.0</td>\n",
              "      <td>4</td>\n",
              "      <td>4.0</td>\n",
              "      <td>3.0</td>\n",
              "      <td>5.0</td>\n",
              "      <td>5</td>\n",
              "      <td>2</td>\n",
              "      <td>Yes</td>\n",
              "    </tr>\n",
              "    <tr>\n",
              "      <th>...</th>\n",
              "      <td>...</td>\n",
              "      <td>...</td>\n",
              "      <td>...</td>\n",
              "      <td>...</td>\n",
              "      <td>...</td>\n",
              "      <td>...</td>\n",
              "      <td>...</td>\n",
              "      <td>...</td>\n",
              "      <td>...</td>\n",
              "      <td>...</td>\n",
              "      <td>...</td>\n",
              "      <td>...</td>\n",
              "    </tr>\n",
              "    <tr>\n",
              "      <th>421</th>\n",
              "      <td>33.0</td>\n",
              "      <td>Male</td>\n",
              "      <td>1</td>\n",
              "      <td>1.0</td>\n",
              "      <td>2.0</td>\n",
              "      <td>2</td>\n",
              "      <td>2.0</td>\n",
              "      <td>1.0</td>\n",
              "      <td>2.0</td>\n",
              "      <td>2</td>\n",
              "      <td>1</td>\n",
              "      <td>Yes</td>\n",
              "    </tr>\n",
              "    <tr>\n",
              "      <th>422</th>\n",
              "      <td>38.0</td>\n",
              "      <td>Female</td>\n",
              "      <td>5</td>\n",
              "      <td>4.0</td>\n",
              "      <td>4.0</td>\n",
              "      <td>5</td>\n",
              "      <td>4.0</td>\n",
              "      <td>3.0</td>\n",
              "      <td>5.0</td>\n",
              "      <td>4</td>\n",
              "      <td>3</td>\n",
              "      <td>Yes</td>\n",
              "    </tr>\n",
              "    <tr>\n",
              "      <th>423</th>\n",
              "      <td>37.0</td>\n",
              "      <td>Female</td>\n",
              "      <td>4</td>\n",
              "      <td>3.0</td>\n",
              "      <td>3.0</td>\n",
              "      <td>2</td>\n",
              "      <td>2.0</td>\n",
              "      <td>2.0</td>\n",
              "      <td>2.0</td>\n",
              "      <td>3</td>\n",
              "      <td>2</td>\n",
              "      <td>No</td>\n",
              "    </tr>\n",
              "    <tr>\n",
              "      <th>424</th>\n",
              "      <td>33.0</td>\n",
              "      <td>Female</td>\n",
              "      <td>5</td>\n",
              "      <td>5.0</td>\n",
              "      <td>4.0</td>\n",
              "      <td>4</td>\n",
              "      <td>5.0</td>\n",
              "      <td>4.0</td>\n",
              "      <td>5.0</td>\n",
              "      <td>5</td>\n",
              "      <td>2</td>\n",
              "      <td>Yes</td>\n",
              "    </tr>\n",
              "    <tr>\n",
              "      <th>425</th>\n",
              "      <td>30.0</td>\n",
              "      <td>Female</td>\n",
              "      <td>3</td>\n",
              "      <td>5.0</td>\n",
              "      <td>5.0</td>\n",
              "      <td>4</td>\n",
              "      <td>4.0</td>\n",
              "      <td>4.0</td>\n",
              "      <td>5.0</td>\n",
              "      <td>4</td>\n",
              "      <td>3</td>\n",
              "      <td>Yes</td>\n",
              "    </tr>\n",
              "  </tbody>\n",
              "</table>\n",
              "<p>426 rows × 12 columns</p>\n",
              "</div>"
            ],
            "text/plain": [
              "     Age(Approximately)  Gender  ...  Angriness  Favourite or Not?\n",
              "0                  40.0    Male  ...          3                Yes\n",
              "1                  35.0    Male  ...          1                 No\n",
              "2                  40.0    Male  ...          2                Yes\n",
              "3                  29.0  Female  ...          3                Yes\n",
              "4                  30.0  Female  ...          2                Yes\n",
              "..                  ...     ...  ...        ...                ...\n",
              "421                33.0    Male  ...          1                Yes\n",
              "422                38.0  Female  ...          3                Yes\n",
              "423                37.0  Female  ...          2                 No\n",
              "424                33.0  Female  ...          2                Yes\n",
              "425                30.0  Female  ...          3                Yes\n",
              "\n",
              "[426 rows x 12 columns]"
            ]
          },
          "metadata": {
            "tags": []
          },
          "execution_count": 4
        }
      ]
    },
    {
      "cell_type": "markdown",
      "metadata": {
        "id": "EhcAnrWYsYE-"
      },
      "source": [
        "**Fill Null Value in Dataset**"
      ]
    },
    {
      "cell_type": "code",
      "metadata": {
        "colab": {
          "base_uri": "https://localhost:8080/"
        },
        "id": "5PrgJXxh87fG",
        "outputId": "bf37c164-ed40-4f18-cec2-3b947f285af1"
      },
      "source": [
        "data.isnull().sum()"
      ],
      "execution_count": 5,
      "outputs": [
        {
          "output_type": "execute_result",
          "data": {
            "text/plain": [
              "Age(Approximately)       1\n",
              "Gender                   0\n",
              "Punctuality              0\n",
              "Friendly                 2\n",
              "Teaching strategies      2\n",
              "Analysis the Students    0\n",
              "Helpful                  1\n",
              "Motivation learning      2\n",
              "manage the class         2\n",
              "Democratic               0\n",
              "Angriness                0\n",
              "Favourite or Not?        0\n",
              "dtype: int64"
            ]
          },
          "metadata": {
            "tags": []
          },
          "execution_count": 5
        }
      ]
    },
    {
      "cell_type": "code",
      "metadata": {
        "id": "fdt4_Uu09RSH"
      },
      "source": [
        "age_m=data['Age(Approximately)'].mean()"
      ],
      "execution_count": 6,
      "outputs": []
    },
    {
      "cell_type": "code",
      "metadata": {
        "colab": {
          "base_uri": "https://localhost:8080/"
        },
        "id": "217IK5EY-CR9",
        "outputId": "0e90a798-28fe-4cd3-9e19-cfcc5825ff85"
      },
      "source": [
        "age_m"
      ],
      "execution_count": 7,
      "outputs": [
        {
          "output_type": "execute_result",
          "data": {
            "text/plain": [
              "39.908235294117645"
            ]
          },
          "metadata": {
            "tags": []
          },
          "execution_count": 7
        }
      ]
    },
    {
      "cell_type": "code",
      "metadata": {
        "id": "SjK_7GtC-NCY"
      },
      "source": [
        "f_m=data['Friendly'].median()"
      ],
      "execution_count": 8,
      "outputs": []
    },
    {
      "cell_type": "code",
      "metadata": {
        "colab": {
          "base_uri": "https://localhost:8080/"
        },
        "id": "f5SgBCnR-ktH",
        "outputId": "f4dcb3c9-19ec-42fb-99eb-17d015ccfbd7"
      },
      "source": [
        "f_m"
      ],
      "execution_count": 9,
      "outputs": [
        {
          "output_type": "execute_result",
          "data": {
            "text/plain": [
              "4.0"
            ]
          },
          "metadata": {
            "tags": []
          },
          "execution_count": 9
        }
      ]
    },
    {
      "cell_type": "code",
      "metadata": {
        "id": "QnJqXuO2Ax_9"
      },
      "source": [
        "mc_m=data['manage the class'].median()"
      ],
      "execution_count": 10,
      "outputs": []
    },
    {
      "cell_type": "code",
      "metadata": {
        "id": "v2pT2vn5AaqM"
      },
      "source": [
        "mv_m=data['Motivation learning'].median()"
      ],
      "execution_count": 11,
      "outputs": []
    },
    {
      "cell_type": "code",
      "metadata": {
        "id": "6b-wvbO8AJcb"
      },
      "source": [
        "h_m=data['Helpful'].median()"
      ],
      "execution_count": 12,
      "outputs": []
    },
    {
      "cell_type": "code",
      "metadata": {
        "id": "-UqVz-XL-pM_"
      },
      "source": [
        "ts_m=data['Teaching strategies'].median()"
      ],
      "execution_count": 13,
      "outputs": []
    },
    {
      "cell_type": "code",
      "metadata": {
        "id": "wx7ZsaKwBF5O"
      },
      "source": [
        "data=data.fillna({'Age(Approximately)':age_m,'Friendly':f_m,'Teaching strategies':ts_m,'Helpful':h_m,'Motivation learning':mv_m,'manage the class':mc_m})"
      ],
      "execution_count": 14,
      "outputs": []
    },
    {
      "cell_type": "code",
      "metadata": {
        "colab": {
          "base_uri": "https://localhost:8080/"
        },
        "id": "DJ7lZdkFBumj",
        "outputId": "4b5244e1-a77b-427e-8de0-647b6de04308"
      },
      "source": [
        "data.isnull().sum()"
      ],
      "execution_count": 15,
      "outputs": [
        {
          "output_type": "execute_result",
          "data": {
            "text/plain": [
              "Age(Approximately)       0\n",
              "Gender                   0\n",
              "Punctuality              0\n",
              "Friendly                 0\n",
              "Teaching strategies      0\n",
              "Analysis the Students    0\n",
              "Helpful                  0\n",
              "Motivation learning      0\n",
              "manage the class         0\n",
              "Democratic               0\n",
              "Angriness                0\n",
              "Favourite or Not?        0\n",
              "dtype: int64"
            ]
          },
          "metadata": {
            "tags": []
          },
          "execution_count": 15
        }
      ]
    },
    {
      "cell_type": "code",
      "metadata": {
        "id": "oDCcsB21DNrr"
      },
      "source": [
        "data_test=[data]"
      ],
      "execution_count": 16,
      "outputs": []
    },
    {
      "cell_type": "code",
      "metadata": {
        "id": "9IbotbqYEC_Q"
      },
      "source": [
        "Gender_mapping ={'Male':1,'Female':0}\n",
        "for dataset in data_test:\n",
        "  dataset['Gender']=dataset['Gender'].map(Gender_mapping)"
      ],
      "execution_count": 17,
      "outputs": []
    },
    {
      "cell_type": "code",
      "metadata": {
        "colab": {
          "base_uri": "https://localhost:8080/",
          "height": 436
        },
        "id": "ELhjlmuWENl2",
        "outputId": "7c2df522-da90-436a-e8e6-20773d786db0"
      },
      "source": [
        "data"
      ],
      "execution_count": 18,
      "outputs": [
        {
          "output_type": "execute_result",
          "data": {
            "text/html": [
              "<div>\n",
              "<style scoped>\n",
              "    .dataframe tbody tr th:only-of-type {\n",
              "        vertical-align: middle;\n",
              "    }\n",
              "\n",
              "    .dataframe tbody tr th {\n",
              "        vertical-align: top;\n",
              "    }\n",
              "\n",
              "    .dataframe thead th {\n",
              "        text-align: right;\n",
              "    }\n",
              "</style>\n",
              "<table border=\"1\" class=\"dataframe\">\n",
              "  <thead>\n",
              "    <tr style=\"text-align: right;\">\n",
              "      <th></th>\n",
              "      <th>Age(Approximately)</th>\n",
              "      <th>Gender</th>\n",
              "      <th>Punctuality</th>\n",
              "      <th>Friendly</th>\n",
              "      <th>Teaching strategies</th>\n",
              "      <th>Analysis the Students</th>\n",
              "      <th>Helpful</th>\n",
              "      <th>Motivation learning</th>\n",
              "      <th>manage the class</th>\n",
              "      <th>Democratic</th>\n",
              "      <th>Angriness</th>\n",
              "      <th>Favourite or Not?</th>\n",
              "    </tr>\n",
              "  </thead>\n",
              "  <tbody>\n",
              "    <tr>\n",
              "      <th>0</th>\n",
              "      <td>40.0</td>\n",
              "      <td>1</td>\n",
              "      <td>5</td>\n",
              "      <td>5.0</td>\n",
              "      <td>5.0</td>\n",
              "      <td>5</td>\n",
              "      <td>5.0</td>\n",
              "      <td>5.0</td>\n",
              "      <td>5.0</td>\n",
              "      <td>5</td>\n",
              "      <td>3</td>\n",
              "      <td>Yes</td>\n",
              "    </tr>\n",
              "    <tr>\n",
              "      <th>1</th>\n",
              "      <td>35.0</td>\n",
              "      <td>1</td>\n",
              "      <td>1</td>\n",
              "      <td>1.0</td>\n",
              "      <td>1.0</td>\n",
              "      <td>3</td>\n",
              "      <td>1.0</td>\n",
              "      <td>1.0</td>\n",
              "      <td>1.0</td>\n",
              "      <td>3</td>\n",
              "      <td>1</td>\n",
              "      <td>No</td>\n",
              "    </tr>\n",
              "    <tr>\n",
              "      <th>2</th>\n",
              "      <td>40.0</td>\n",
              "      <td>1</td>\n",
              "      <td>5</td>\n",
              "      <td>5.0</td>\n",
              "      <td>5.0</td>\n",
              "      <td>5</td>\n",
              "      <td>5.0</td>\n",
              "      <td>5.0</td>\n",
              "      <td>5.0</td>\n",
              "      <td>4</td>\n",
              "      <td>2</td>\n",
              "      <td>Yes</td>\n",
              "    </tr>\n",
              "    <tr>\n",
              "      <th>3</th>\n",
              "      <td>29.0</td>\n",
              "      <td>0</td>\n",
              "      <td>5</td>\n",
              "      <td>5.0</td>\n",
              "      <td>5.0</td>\n",
              "      <td>5</td>\n",
              "      <td>5.0</td>\n",
              "      <td>5.0</td>\n",
              "      <td>5.0</td>\n",
              "      <td>5</td>\n",
              "      <td>3</td>\n",
              "      <td>Yes</td>\n",
              "    </tr>\n",
              "    <tr>\n",
              "      <th>4</th>\n",
              "      <td>30.0</td>\n",
              "      <td>0</td>\n",
              "      <td>4</td>\n",
              "      <td>3.0</td>\n",
              "      <td>3.0</td>\n",
              "      <td>4</td>\n",
              "      <td>4.0</td>\n",
              "      <td>3.0</td>\n",
              "      <td>5.0</td>\n",
              "      <td>5</td>\n",
              "      <td>2</td>\n",
              "      <td>Yes</td>\n",
              "    </tr>\n",
              "    <tr>\n",
              "      <th>...</th>\n",
              "      <td>...</td>\n",
              "      <td>...</td>\n",
              "      <td>...</td>\n",
              "      <td>...</td>\n",
              "      <td>...</td>\n",
              "      <td>...</td>\n",
              "      <td>...</td>\n",
              "      <td>...</td>\n",
              "      <td>...</td>\n",
              "      <td>...</td>\n",
              "      <td>...</td>\n",
              "      <td>...</td>\n",
              "    </tr>\n",
              "    <tr>\n",
              "      <th>421</th>\n",
              "      <td>33.0</td>\n",
              "      <td>1</td>\n",
              "      <td>1</td>\n",
              "      <td>1.0</td>\n",
              "      <td>2.0</td>\n",
              "      <td>2</td>\n",
              "      <td>2.0</td>\n",
              "      <td>1.0</td>\n",
              "      <td>2.0</td>\n",
              "      <td>2</td>\n",
              "      <td>1</td>\n",
              "      <td>Yes</td>\n",
              "    </tr>\n",
              "    <tr>\n",
              "      <th>422</th>\n",
              "      <td>38.0</td>\n",
              "      <td>0</td>\n",
              "      <td>5</td>\n",
              "      <td>4.0</td>\n",
              "      <td>4.0</td>\n",
              "      <td>5</td>\n",
              "      <td>4.0</td>\n",
              "      <td>3.0</td>\n",
              "      <td>5.0</td>\n",
              "      <td>4</td>\n",
              "      <td>3</td>\n",
              "      <td>Yes</td>\n",
              "    </tr>\n",
              "    <tr>\n",
              "      <th>423</th>\n",
              "      <td>37.0</td>\n",
              "      <td>0</td>\n",
              "      <td>4</td>\n",
              "      <td>3.0</td>\n",
              "      <td>3.0</td>\n",
              "      <td>2</td>\n",
              "      <td>2.0</td>\n",
              "      <td>2.0</td>\n",
              "      <td>2.0</td>\n",
              "      <td>3</td>\n",
              "      <td>2</td>\n",
              "      <td>No</td>\n",
              "    </tr>\n",
              "    <tr>\n",
              "      <th>424</th>\n",
              "      <td>33.0</td>\n",
              "      <td>0</td>\n",
              "      <td>5</td>\n",
              "      <td>5.0</td>\n",
              "      <td>4.0</td>\n",
              "      <td>4</td>\n",
              "      <td>5.0</td>\n",
              "      <td>4.0</td>\n",
              "      <td>5.0</td>\n",
              "      <td>5</td>\n",
              "      <td>2</td>\n",
              "      <td>Yes</td>\n",
              "    </tr>\n",
              "    <tr>\n",
              "      <th>425</th>\n",
              "      <td>30.0</td>\n",
              "      <td>0</td>\n",
              "      <td>3</td>\n",
              "      <td>5.0</td>\n",
              "      <td>5.0</td>\n",
              "      <td>4</td>\n",
              "      <td>4.0</td>\n",
              "      <td>4.0</td>\n",
              "      <td>5.0</td>\n",
              "      <td>4</td>\n",
              "      <td>3</td>\n",
              "      <td>Yes</td>\n",
              "    </tr>\n",
              "  </tbody>\n",
              "</table>\n",
              "<p>426 rows × 12 columns</p>\n",
              "</div>"
            ],
            "text/plain": [
              "     Age(Approximately)  Gender  ...  Angriness  Favourite or Not?\n",
              "0                  40.0       1  ...          3                Yes\n",
              "1                  35.0       1  ...          1                 No\n",
              "2                  40.0       1  ...          2                Yes\n",
              "3                  29.0       0  ...          3                Yes\n",
              "4                  30.0       0  ...          2                Yes\n",
              "..                  ...     ...  ...        ...                ...\n",
              "421                33.0       1  ...          1                Yes\n",
              "422                38.0       0  ...          3                Yes\n",
              "423                37.0       0  ...          2                 No\n",
              "424                33.0       0  ...          2                Yes\n",
              "425                30.0       0  ...          3                Yes\n",
              "\n",
              "[426 rows x 12 columns]"
            ]
          },
          "metadata": {
            "tags": []
          },
          "execution_count": 18
        }
      ]
    },
    {
      "cell_type": "markdown",
      "metadata": {
        "id": "_H6SqcbOpAaq"
      },
      "source": [
        "**Simple Visualization**"
      ]
    },
    {
      "cell_type": "code",
      "metadata": {
        "colab": {
          "base_uri": "https://localhost:8080/",
          "height": 350
        },
        "id": "yUIxjgxdXH3F",
        "outputId": "2addddd2-dcad-4950-eb76-7cd78a7199b1"
      },
      "source": [
        "sb.countplot(data['Favourite or Not?'])"
      ],
      "execution_count": 19,
      "outputs": [
        {
          "output_type": "stream",
          "text": [
            "/usr/local/lib/python3.7/dist-packages/seaborn/_decorators.py:43: FutureWarning: Pass the following variable as a keyword arg: x. From version 0.12, the only valid positional argument will be `data`, and passing other arguments without an explicit keyword will result in an error or misinterpretation.\n",
            "  FutureWarning\n"
          ],
          "name": "stderr"
        },
        {
          "output_type": "execute_result",
          "data": {
            "text/plain": [
              "<matplotlib.axes._subplots.AxesSubplot at 0x7fadaf1fb250>"
            ]
          },
          "metadata": {
            "tags": []
          },
          "execution_count": 19
        },
        {
          "output_type": "display_data",
          "data": {
            "image/png": "[encoded data removed]",
            "text/plain": [
              "<Figure size 432x288 with 1 Axes>"
            ]
          },
          "metadata": {
            "tags": [],
            "needs_background": "light"
          }
        }
      ]
    },
    {
      "cell_type": "code",
      "metadata": {
        "colab": {
          "base_uri": "https://localhost:8080/"
        },
        "id": "VPUvM2fJXdjq",
        "outputId": "78407a12-be04-470e-ed19-d83f888b2861"
      },
      "source": [
        "data['Favourite or Not?'].value_counts()"
      ],
      "execution_count": 20,
      "outputs": [
        {
          "output_type": "execute_result",
          "data": {
            "text/plain": [
              "Yes    303\n",
              "No     123\n",
              "Name: Favourite or Not?, dtype: int64"
            ]
          },
          "metadata": {
            "tags": []
          },
          "execution_count": 20
        }
      ]
    },
    {
      "cell_type": "code",
      "metadata": {
        "colab": {
          "base_uri": "https://localhost:8080/",
          "height": 296
        },
        "id": "Di4QTp1mE1sj",
        "outputId": "b4e111b0-1767-40d8-d1e5-eb075a8f10ed"
      },
      "source": [
        "sb.countplot(x='Gender',hue='Favourite or Not?',data=data)"
      ],
      "execution_count": 21,
      "outputs": [
        {
          "output_type": "execute_result",
          "data": {
            "text/plain": [
              "<matplotlib.axes._subplots.AxesSubplot at 0x7fadaec71690>"
            ]
          },
          "metadata": {
            "tags": []
          },
          "execution_count": 21
        },
        {
          "output_type": "display_data",
          "data": {
            "image/png": "[encoded data removed]",
            "text/plain": [
              "<Figure size 432x288 with 1 Axes>"
            ]
          },
          "metadata": {
            "tags": [],
            "needs_background": "light"
          }
        }
      ]
    },
    {
      "cell_type": "code",
      "metadata": {
        "colab": {
          "base_uri": "https://localhost:8080/",
          "height": 296
        },
        "id": "Lh6PIW-eFhiM",
        "outputId": "3d0acaa5-c707-4cca-8086-e142c91fcd06"
      },
      "source": [
        "sb.countplot(x='Helpful',hue='Favourite or Not?',data=data)"
      ],
      "execution_count": 22,
      "outputs": [
        {
          "output_type": "execute_result",
          "data": {
            "text/plain": [
              "<matplotlib.axes._subplots.AxesSubplot at 0x7fadaec54450>"
            ]
          },
          "metadata": {
            "tags": []
          },
          "execution_count": 22
        },
        {
          "output_type": "display_data",
          "data": {
            "image/png": "[encoded data removed]",
            "text/plain": [
              "<Figure size 432x288 with 1 Axes>"
            ]
          },
          "metadata": {
            "tags": [],
            "needs_background": "light"
          }
        }
      ]
    },
    {
      "cell_type": "code",
      "metadata": {
        "colab": {
          "base_uri": "https://localhost:8080/",
          "height": 296
        },
        "id": "UiLrytNrTakD",
        "outputId": "283fa65f-6954-484a-a9ac-64c9c42e2358"
      },
      "source": [
        "sb.countplot(x='Teaching strategies',hue='Favourite or Not?',data=data)"
      ],
      "execution_count": 23,
      "outputs": [
        {
          "output_type": "execute_result",
          "data": {
            "text/plain": [
              "<matplotlib.axes._subplots.AxesSubplot at 0x7fadaeb76210>"
            ]
          },
          "metadata": {
            "tags": []
          },
          "execution_count": 23
        },
        {
          "output_type": "display_data",
          "data": {
            "image/png": "[encoded data removed]",
            "text/plain": [
              "<Figure size 432x288 with 1 Axes>"
            ]
          },
          "metadata": {
            "tags": [],
            "needs_background": "light"
          }
        }
      ]
    },
    {
      "cell_type": "code",
      "metadata": {
        "colab": {
          "base_uri": "https://localhost:8080/",
          "height": 296
        },
        "id": "ZcFaefW0Tn9e",
        "outputId": "b51ec66c-f825-4c31-eb84-abf283dfc331"
      },
      "source": [
        "sb.countplot(x='Friendly',hue='Favourite or Not?',data=data)"
      ],
      "execution_count": 24,
      "outputs": [
        {
          "output_type": "execute_result",
          "data": {
            "text/plain": [
              "<matplotlib.axes._subplots.AxesSubplot at 0x7fadaeaf4790>"
            ]
          },
          "metadata": {
            "tags": []
          },
          "execution_count": 24
        },
        {
          "output_type": "display_data",
          "data": {
            "image/png": "[encoded data removed]",
            "text/plain": [
              "<Figure size 432x288 with 1 Axes>"
            ]
          },
          "metadata": {
            "tags": [],
            "needs_background": "light"
          }
        }
      ]
    },
    {
      "cell_type": "code",
      "metadata": {
        "colab": {
          "base_uri": "https://localhost:8080/",
          "height": 299
        },
        "id": "vri94dbrTo41",
        "outputId": "65b03589-23ce-4bb5-8a90-79a8d0bce157"
      },
      "source": [
        "sb.countplot(x='Analysis the Students',hue='Favourite or Not?',data=data)"
      ],
      "execution_count": 25,
      "outputs": [
        {
          "output_type": "execute_result",
          "data": {
            "text/plain": [
              "<matplotlib.axes._subplots.AxesSubplot at 0x7fadaea8ad10>"
            ]
          },
          "metadata": {
            "tags": []
          },
          "execution_count": 25
        },
        {
          "output_type": "display_data",
          "data": {
            "image/png": "[encoded data removed]",
            "text/plain": [
              "<Figure size 432x288 with 1 Axes>"
            ]
          },
          "metadata": {
            "tags": [],
            "needs_background": "light"
          }
        }
      ]
    },
    {
      "cell_type": "code",
      "metadata": {
        "colab": {
          "base_uri": "https://localhost:8080/",
          "height": 296
        },
        "id": "ab-V83Q6To_Q",
        "outputId": "b77fa674-3eb5-47ef-bc8d-b8e323941de9"
      },
      "source": [
        "sb.countplot(x='Motivation learning',hue='Favourite or Not?',data=data)"
      ],
      "execution_count": 26,
      "outputs": [
        {
          "output_type": "execute_result",
          "data": {
            "text/plain": [
              "<matplotlib.axes._subplots.AxesSubplot at 0x7fadaeb5e0d0>"
            ]
          },
          "metadata": {
            "tags": []
          },
          "execution_count": 26
        },
        {
          "output_type": "display_data",
          "data": {
            "image/png": "[encoded data removed]",
            "text/plain": [
              "<Figure size 432x288 with 1 Axes>"
            ]
          },
          "metadata": {
            "tags": [],
            "needs_background": "light"
          }
        }
      ]
    },
    {
      "cell_type": "code",
      "metadata": {
        "colab": {
          "base_uri": "https://localhost:8080/",
          "height": 296
        },
        "id": "hGzI5c6MTrfR",
        "outputId": "066c0cee-c1d8-4120-a1dc-6270692edeb0"
      },
      "source": [
        "sb.countplot(x='Democratic',hue='Favourite or Not?',data=data)"
      ],
      "execution_count": 27,
      "outputs": [
        {
          "output_type": "execute_result",
          "data": {
            "text/plain": [
              "<matplotlib.axes._subplots.AxesSubplot at 0x7fadae91c650>"
            ]
          },
          "metadata": {
            "tags": []
          },
          "execution_count": 27
        },
        {
          "output_type": "display_data",
          "data": {
            "image/png": "[encoded data removed]",
            "text/plain": [
              "<Figure size 432x288 with 1 Axes>"
            ]
          },
          "metadata": {
            "tags": [],
            "needs_background": "light"
          }
        }
      ]
    },
    {
      "cell_type": "code",
      "metadata": {
        "colab": {
          "base_uri": "https://localhost:8080/",
          "height": 296
        },
        "id": "t4RmadOeUd9x",
        "outputId": "9cc2cb75-bf18-41cc-c1b9-fd5d9c5df575"
      },
      "source": [
        "sb.countplot(x='Angriness',hue='Favourite or Not?',data=data)"
      ],
      "execution_count": 28,
      "outputs": [
        {
          "output_type": "execute_result",
          "data": {
            "text/plain": [
              "<matplotlib.axes._subplots.AxesSubplot at 0x7fadae8b8150>"
            ]
          },
          "metadata": {
            "tags": []
          },
          "execution_count": 28
        },
        {
          "output_type": "display_data",
          "data": {
            "image/png": "[encoded data removed]",
            "text/plain": [
              "<Figure size 432x288 with 1 Axes>"
            ]
          },
          "metadata": {
            "tags": [],
            "needs_background": "light"
          }
        }
      ]
    },
    {
      "cell_type": "code",
      "metadata": {
        "colab": {
          "base_uri": "https://localhost:8080/",
          "height": 296
        },
        "id": "bMhBPElQUe9A",
        "outputId": "5f61a914-26f8-443e-f066-07599e948cc9"
      },
      "source": [
        "sb.countplot(x='manage the class',hue='Favourite or Not?',data=data)"
      ],
      "execution_count": 29,
      "outputs": [
        {
          "output_type": "execute_result",
          "data": {
            "text/plain": [
              "<matplotlib.axes._subplots.AxesSubplot at 0x7fadae826f50>"
            ]
          },
          "metadata": {
            "tags": []
          },
          "execution_count": 29
        },
        {
          "output_type": "display_data",
          "data": {
            "image/png": "[encoded data removed]",
            "text/plain": [
              "<Figure size 432x288 with 1 Axes>"
            ]
          },
          "metadata": {
            "tags": [],
            "needs_background": "light"
          }
        }
      ]
    },
    {
      "cell_type": "code",
      "metadata": {
        "colab": {
          "base_uri": "https://localhost:8080/",
          "height": 296
        },
        "id": "hhh58-baTtZe",
        "outputId": "825c4af8-5047-4ece-f851-3904466df20a"
      },
      "source": [
        "sb.countplot(x='Punctuality',hue='Favourite or Not?',data=data)"
      ],
      "execution_count": 30,
      "outputs": [
        {
          "output_type": "execute_result",
          "data": {
            "text/plain": [
              "<matplotlib.axes._subplots.AxesSubplot at 0x7fadae7ab350>"
            ]
          },
          "metadata": {
            "tags": []
          },
          "execution_count": 30
        },
        {
          "output_type": "display_data",
          "data": {
            "image/png": "[encoded data removed]",
            "text/plain": [
              "<Figure size 432x288 with 1 Axes>"
            ]
          },
          "metadata": {
            "tags": [],
            "needs_background": "light"
          }
        }
      ]
    },
    {
      "cell_type": "code",
      "metadata": {
        "colab": {
          "base_uri": "https://localhost:8080/",
          "height": 1000
        },
        "id": "MFU1fhrvWRBQ",
        "outputId": "66c6d8be-fdd5-4134-a110-2d5dd5cde828"
      },
      "source": [
        "sb.pairplot(data)"
      ],
      "execution_count": 31,
      "outputs": [
        {
          "output_type": "execute_result",
          "data": {
            "text/plain": [
              "<seaborn.axisgrid.PairGrid at 0x7fadae750310>"
            ]
          },
          "metadata": {
            "tags": []
          },
          "execution_count": 31
        },
        {
          "output_type": "display_data",
          "data": {
            "image/png": "[encoded data removed]",
            "text/plain": [
              "<Figure size 1980x1980 with 132 Axes>"
            ]
          },
          "metadata": {
            "tags": [],
            "needs_background": "light"
          }
        }
      ]
    },
    {
      "cell_type": "code",
      "metadata": {
        "colab": {
          "base_uri": "https://localhost:8080/",
          "height": 296
        },
        "id": "e6jMnsjjXdbs",
        "outputId": "02e475a7-bf25-4a30-eae7-5539b46c5a1f"
      },
      "source": [
        "sb.countplot(x='Age(Approximately)',hue='Favourite or Not?',data=data)"
      ],
      "execution_count": 32,
      "outputs": [
        {
          "output_type": "execute_result",
          "data": {
            "text/plain": [
              "<matplotlib.axes._subplots.AxesSubplot at 0x7fada49a3190>"
            ]
          },
          "metadata": {
            "tags": []
          },
          "execution_count": 32
        },
        {
          "output_type": "display_data",
          "data": {
            "image/png": "[encoded data removed]",
            "text/plain": [
              "<Figure size 432x288 with 1 Axes>"
            ]
          },
          "metadata": {
            "tags": [],
            "needs_background": "light"
          }
        }
      ]
    },
    {
      "cell_type": "markdown",
      "metadata": {
        "id": "q7MlU8YupQCQ"
      },
      "source": [
        "**Prepocessing Data**"
      ]
    },
    {
      "cell_type": "code",
      "metadata": {
        "id": "rQQrjhqNXdY3"
      },
      "source": [
        "x=data.iloc[:,:-1]"
      ],
      "execution_count": 33,
      "outputs": []
    },
    {
      "cell_type": "code",
      "metadata": {
        "id": "PT8FJHYXc-UO"
      },
      "source": [
        "y=data['Favourite or Not?']"
      ],
      "execution_count": 34,
      "outputs": []
    },
    {
      "cell_type": "code",
      "metadata": {
        "id": "-5Lny1VMdFat"
      },
      "source": [
        "from sklearn.preprocessing import LabelEncoder"
      ],
      "execution_count": 35,
      "outputs": []
    },
    {
      "cell_type": "code",
      "metadata": {
        "id": "rPC5RGxFdPZ5"
      },
      "source": [
        "le=LabelEncoder()"
      ],
      "execution_count": 36,
      "outputs": []
    },
    {
      "cell_type": "code",
      "metadata": {
        "id": "-SmDxFWCdTwZ"
      },
      "source": [
        "y=le.fit_transform(y)"
      ],
      "execution_count": 37,
      "outputs": []
    },
    {
      "cell_type": "code",
      "metadata": {
        "colab": {
          "base_uri": "https://localhost:8080/"
        },
        "id": "obe7EojedeDH",
        "outputId": "b81ea2ba-3ea3-41b1-f937-86fb6c80ecb4"
      },
      "source": [
        "print(x)\n",
        "print(y)"
      ],
      "execution_count": 38,
      "outputs": [
        {
          "output_type": "stream",
          "text": [
            "     Age(Approximately)  Gender  ...  Democratic  Angriness\n",
            "0                  40.0       1  ...           5          3\n",
            "1                  35.0       1  ...           3          1\n",
            "2                  40.0       1  ...           4          2\n",
            "3                  29.0       0  ...           5          3\n",
            "4                  30.0       0  ...           5          2\n",
            "..                  ...     ...  ...         ...        ...\n",
            "421                33.0       1  ...           2          1\n",
            "422                38.0       0  ...           4          3\n",
            "423                37.0       0  ...           3          2\n",
            "424                33.0       0  ...           5          2\n",
            "425                30.0       0  ...           4          3\n",
            "\n",
            "[426 rows x 11 columns]\n",
            "[1 0 1 1 1 1 1 1 1 1 1 1 1 0 1 0 1 1 1 0 1 1 1 1 0 1 1 1 1 1 1 1 0 0 1 1 1\n",
            " 0 1 0 1 1 0 1 1 1 1 1 0 0 0 1 0 1 1 0 1 1 1 1 1 0 0 1 1 1 1 1 1 1 1 0 1 1\n",
            " 1 1 0 0 1 0 1 1 1 1 1 0 1 0 1 0 1 1 0 1 1 0 1 1 0 1 1 1 1 1 0 1 1 0 0 0 1\n",
            " 0 1 0 1 1 1 0 0 1 0 1 1 1 1 1 0 1 1 1 1 0 1 1 0 1 1 0 0 1 1 1 0 1 1 1 0 1\n",
            " 1 0 1 1 1 0 1 0 0 0 0 1 0 1 1 1 1 1 1 1 1 1 1 1 1 1 1 1 1 1 1 1 1 1 1 1 1\n",
            " 1 1 1 1 1 1 1 1 1 1 1 1 1 0 0 0 0 1 1 0 0 1 0 1 0 1 1 1 1 1 1 1 0 1 0 0 1\n",
            " 1 1 0 1 1 1 0 1 0 0 1 0 0 0 0 0 1 1 1 1 0 1 1 1 1 1 1 0 0 1 1 1 1 0 1 0 0\n",
            " 0 1 0 1 1 1 1 1 1 0 0 1 1 0 1 0 1 0 1 1 1 1 0 1 0 0 1 0 1 1 1 1 1 0 0 1 1\n",
            " 1 1 1 0 1 1 1 1 1 1 1 1 1 0 1 1 0 1 1 1 1 1 0 1 1 0 1 1 0 1 1 1 0 0 1 1 1\n",
            " 1 1 1 1 1 1 1 1 0 0 1 1 1 1 1 0 1 1 1 1 1 1 1 1 0 0 0 0 1 1 1 1 1 0 1 1 1\n",
            " 1 1 1 0 0 1 1 1 1 1 1 0 1 1 1 1 1 0 0 1 1 1 1 1 0 1 1 1 0 1 0 0 1 1 1 1 0\n",
            " 1 1 0 0 1 0 1 1 0 1 1 0 0 0 1 1 0 1 1]\n"
          ],
          "name": "stdout"
        }
      ]
    },
    {
      "cell_type": "markdown",
      "metadata": {
        "id": "1uPis39GpsM-"
      },
      "source": [
        " **Scalling the dataset**"
      ]
    },
    {
      "cell_type": "code",
      "metadata": {
        "id": "zNgPX2YMdowI"
      },
      "source": [
        "from sklearn.preprocessing import StandardScaler"
      ],
      "execution_count": 39,
      "outputs": []
    },
    {
      "cell_type": "code",
      "metadata": {
        "id": "2gfDF41Ed37_"
      },
      "source": [
        "ss=StandardScaler()"
      ],
      "execution_count": 40,
      "outputs": []
    },
    {
      "cell_type": "code",
      "metadata": {
        "id": "7UZw9YJId-a_"
      },
      "source": [
        "x=ss.fit_transform(x)"
      ],
      "execution_count": 41,
      "outputs": []
    },
    {
      "cell_type": "code",
      "metadata": {
        "colab": {
          "base_uri": "https://localhost:8080/"
        },
        "id": "cpEov6XHeEed",
        "outputId": "47610fb8-13be-4b41-bcfe-92b49b8fc0a3"
      },
      "source": [
        "x"
      ],
      "execution_count": 42,
      "outputs": [
        {
          "output_type": "execute_result",
          "data": {
            "text/plain": [
              "array([[ 0.00979347,  0.84311528,  1.32503488, ...,  1.28131512,\n",
              "         1.40527332,  1.29386895],\n",
              "       [-0.52382488,  0.84311528, -2.47607529, ..., -2.27464736,\n",
              "        -0.40606234, -1.4899097 ],\n",
              "       [ 0.00979347,  0.84311528,  1.32503488, ...,  1.28131512,\n",
              "         0.49960549, -0.09802037],\n",
              "       ...,\n",
              "       [-0.31037754, -1.18607743,  0.37475734, ..., -1.38565674,\n",
              "        -0.40606234, -0.09802037],\n",
              "       [-0.73727222, -1.18607743,  1.32503488, ...,  1.28131512,\n",
              "         1.40527332, -0.09802037],\n",
              "       [-1.05744322, -1.18607743, -0.5755202 , ...,  1.28131512,\n",
              "         0.49960549,  1.29386895]])"
            ]
          },
          "metadata": {
            "tags": []
          },
          "execution_count": 42
        }
      ]
    },
    {
      "cell_type": "markdown",
      "metadata": {
        "id": "GCFpnFFMqDZl"
      },
      "source": [
        "**Split** **Dataset**"
      ]
    },
    {
      "cell_type": "code",
      "metadata": {
        "id": "CVLahjmGeISR"
      },
      "source": [
        "from sklearn.model_selection import train_test_split"
      ],
      "execution_count": 43,
      "outputs": []
    },
    {
      "cell_type": "code",
      "metadata": {
        "id": "I9ltZExteUTP"
      },
      "source": [
        "xtrain,xtest,ytrain,ytest=train_test_split(x,y,test_size=0.25,random_state=42)"
      ],
      "execution_count": 44,
      "outputs": []
    },
    {
      "cell_type": "markdown",
      "metadata": {
        "id": "r1xzIDrfqKoY"
      },
      "source": [
        "**Built RandomForest classifier model and show performence by Performance metics**"
      ]
    },
    {
      "cell_type": "code",
      "metadata": {
        "id": "xNgS5nQQeta_"
      },
      "source": [
        "from sklearn.ensemble import RandomForestClassifier"
      ],
      "execution_count": 45,
      "outputs": []
    },
    {
      "cell_type": "code",
      "metadata": {
        "id": "TfWcnyske4Y9"
      },
      "source": [
        "rfc=RandomForestClassifier()"
      ],
      "execution_count": 46,
      "outputs": []
    },
    {
      "cell_type": "code",
      "metadata": {
        "colab": {
          "base_uri": "https://localhost:8080/"
        },
        "id": "oJzbJ90Te8l1",
        "outputId": "c7a1d214-385c-4c4d-aa5f-bba138b7b292"
      },
      "source": [
        "rfc.fit(xtrain,ytrain)"
      ],
      "execution_count": 47,
      "outputs": [
        {
          "output_type": "execute_result",
          "data": {
            "text/plain": [
              "RandomForestClassifier(bootstrap=True, ccp_alpha=0.0, class_weight=None,\n",
              "                       criterion='gini', max_depth=None, max_features='auto',\n",
              "                       max_leaf_nodes=None, max_samples=None,\n",
              "                       min_impurity_decrease=0.0, min_impurity_split=None,\n",
              "                       min_samples_leaf=1, min_samples_split=2,\n",
              "                       min_weight_fraction_leaf=0.0, n_estimators=100,\n",
              "                       n_jobs=None, oob_score=False, random_state=None,\n",
              "                       verbose=0, warm_start=False)"
            ]
          },
          "metadata": {
            "tags": []
          },
          "execution_count": 47
        }
      ]
    },
    {
      "cell_type": "code",
      "metadata": {
        "id": "gWaLn6hpfFf1"
      },
      "source": [
        "pre=rfc.predict(xtest)"
      ],
      "execution_count": 48,
      "outputs": []
    },
    {
      "cell_type": "code",
      "metadata": {
        "id": "3I1s_3QsV5Yi"
      },
      "source": [
        "from sklearn.metrics import accuracy_score"
      ],
      "execution_count": 49,
      "outputs": []
    },
    {
      "cell_type": "code",
      "metadata": {
        "colab": {
          "base_uri": "https://localhost:8080/"
        },
        "id": "xEC667h2ZNUt",
        "outputId": "c8a2980b-439d-4c4f-cebf-1751b6b552eb"
      },
      "source": [
        "accuracy_score(ytest,pre)"
      ],
      "execution_count": 50,
      "outputs": [
        {
          "output_type": "execute_result",
          "data": {
            "text/plain": [
              "0.9158878504672897"
            ]
          },
          "metadata": {
            "tags": []
          },
          "execution_count": 50
        }
      ]
    },
    {
      "cell_type": "code",
      "metadata": {
        "id": "zjCKUgU0Zlee"
      },
      "source": [
        "from sklearn.metrics import confusion_matrix"
      ],
      "execution_count": 51,
      "outputs": []
    },
    {
      "cell_type": "code",
      "metadata": {
        "colab": {
          "base_uri": "https://localhost:8080/"
        },
        "id": "PKZ_VWVLarZK",
        "outputId": "65b18fd3-bf1b-4240-cabc-8d47f94b8362"
      },
      "source": [
        "confusion_matrix(ytest,pre)"
      ],
      "execution_count": 52,
      "outputs": [
        {
          "output_type": "execute_result",
          "data": {
            "text/plain": [
              "array([[30,  4],\n",
              "       [ 5, 68]])"
            ]
          },
          "metadata": {
            "tags": []
          },
          "execution_count": 52
        }
      ]
    },
    {
      "cell_type": "code",
      "metadata": {
        "id": "wRiTghv2bco1"
      },
      "source": [
        "from sklearn.metrics import classification_report"
      ],
      "execution_count": 53,
      "outputs": []
    },
    {
      "cell_type": "code",
      "metadata": {
        "colab": {
          "base_uri": "https://localhost:8080/"
        },
        "id": "lAhnMvehblpV",
        "outputId": "907df522-c3a2-46e8-90c9-d6858e433c5a"
      },
      "source": [
        "print(classification_report(ytest,pre))"
      ],
      "execution_count": 54,
      "outputs": [
        {
          "output_type": "stream",
          "text": [
            "              precision    recall  f1-score   support\n",
            "\n",
            "           0       0.86      0.88      0.87        34\n",
            "           1       0.94      0.93      0.94        73\n",
            "\n",
            "    accuracy                           0.92       107\n",
            "   macro avg       0.90      0.91      0.90       107\n",
            "weighted avg       0.92      0.92      0.92       107\n",
            "\n"
          ],
          "name": "stdout"
        }
      ]
    },
    {
      "cell_type": "code",
      "metadata": {
        "id": "bNLtxiAGb9XY"
      },
      "source": [
        "from sklearn.linear_model import LogisticRegression"
      ],
      "execution_count": 55,
      "outputs": []
    },
    {
      "cell_type": "markdown",
      "metadata": {
        "id": "18YUfM87rBTB"
      },
      "source": [
        "**Built Logistic Regression model and show performence by Performance metics**"
      ]
    },
    {
      "cell_type": "code",
      "metadata": {
        "id": "2QsSLDX7cHyp"
      },
      "source": [
        "lgr=LogisticRegression()"
      ],
      "execution_count": 56,
      "outputs": []
    },
    {
      "cell_type": "code",
      "metadata": {
        "colab": {
          "base_uri": "https://localhost:8080/"
        },
        "id": "noZ7sHAFcM-6",
        "outputId": "bc1e9ce1-38ed-4b13-b1ee-0bd70caad20a"
      },
      "source": [
        "lgr.fit(xtrain,ytrain)"
      ],
      "execution_count": 57,
      "outputs": [
        {
          "output_type": "execute_result",
          "data": {
            "text/plain": [
              "LogisticRegression(C=1.0, class_weight=None, dual=False, fit_intercept=True,\n",
              "                   intercept_scaling=1, l1_ratio=None, max_iter=100,\n",
              "                   multi_class='auto', n_jobs=None, penalty='l2',\n",
              "                   random_state=None, solver='lbfgs', tol=0.0001, verbose=0,\n",
              "                   warm_start=False)"
            ]
          },
          "metadata": {
            "tags": []
          },
          "execution_count": 57
        }
      ]
    },
    {
      "cell_type": "code",
      "metadata": {
        "id": "twgq7W_TcZgg"
      },
      "source": [
        "pred=lgr.predict(xtest)"
      ],
      "execution_count": 58,
      "outputs": []
    },
    {
      "cell_type": "code",
      "metadata": {
        "colab": {
          "base_uri": "https://localhost:8080/"
        },
        "id": "Jiz84S5Mcqdz",
        "outputId": "4de112b2-5a54-4f05-96db-4884826d6674"
      },
      "source": [
        "accuracy_score(ytest,pred)"
      ],
      "execution_count": 59,
      "outputs": [
        {
          "output_type": "execute_result",
          "data": {
            "text/plain": [
              "0.9158878504672897"
            ]
          },
          "metadata": {
            "tags": []
          },
          "execution_count": 59
        }
      ]
    },
    {
      "cell_type": "code",
      "metadata": {
        "colab": {
          "base_uri": "https://localhost:8080/"
        },
        "id": "KEsy6zg9cxyb",
        "outputId": "c644c604-e270-43aa-caeb-663d5fb11801"
      },
      "source": [
        "confusion_matrix(ytest,pred)"
      ],
      "execution_count": 60,
      "outputs": [
        {
          "output_type": "execute_result",
          "data": {
            "text/plain": [
              "array([[29,  5],\n",
              "       [ 4, 69]])"
            ]
          },
          "metadata": {
            "tags": []
          },
          "execution_count": 60
        }
      ]
    },
    {
      "cell_type": "code",
      "metadata": {
        "colab": {
          "base_uri": "https://localhost:8080/"
        },
        "id": "cgkLwYWtdASp",
        "outputId": "7b37e48f-b609-4219-c0de-242ebf206325"
      },
      "source": [
        "print(classification_report(ytest,pred))"
      ],
      "execution_count": 61,
      "outputs": [
        {
          "output_type": "stream",
          "text": [
            "              precision    recall  f1-score   support\n",
            "\n",
            "           0       0.88      0.85      0.87        34\n",
            "           1       0.93      0.95      0.94        73\n",
            "\n",
            "    accuracy                           0.92       107\n",
            "   macro avg       0.91      0.90      0.90       107\n",
            "weighted avg       0.92      0.92      0.92       107\n",
            "\n"
          ],
          "name": "stdout"
        }
      ]
    },
    {
      "cell_type": "markdown",
      "metadata": {
        "id": "Yxv0jDaSrcDW"
      },
      "source": [
        "**Built DecisionTreeClassifier model and show performence by Performance metics**"
      ]
    },
    {
      "cell_type": "code",
      "metadata": {
        "id": "nnRZZCgQdTpC"
      },
      "source": [
        "from sklearn.tree import DecisionTreeClassifier"
      ],
      "execution_count": 62,
      "outputs": []
    },
    {
      "cell_type": "code",
      "metadata": {
        "id": "pPoqnjMMduI_"
      },
      "source": [
        "dc=DecisionTreeClassifier()"
      ],
      "execution_count": 63,
      "outputs": []
    },
    {
      "cell_type": "code",
      "metadata": {
        "colab": {
          "base_uri": "https://localhost:8080/"
        },
        "id": "Fe-VkyNEdxUW",
        "outputId": "b56f65ee-388d-47a4-d8ff-3bf87f4cf0da"
      },
      "source": [
        "dc.fit(xtrain,ytrain)"
      ],
      "execution_count": 64,
      "outputs": [
        {
          "output_type": "execute_result",
          "data": {
            "text/plain": [
              "DecisionTreeClassifier(ccp_alpha=0.0, class_weight=None, criterion='gini',\n",
              "                       max_depth=None, max_features=None, max_leaf_nodes=None,\n",
              "                       min_impurity_decrease=0.0, min_impurity_split=None,\n",
              "                       min_samples_leaf=1, min_samples_split=2,\n",
              "                       min_weight_fraction_leaf=0.0, presort='deprecated',\n",
              "                       random_state=None, splitter='best')"
            ]
          },
          "metadata": {
            "tags": []
          },
          "execution_count": 64
        }
      ]
    },
    {
      "cell_type": "code",
      "metadata": {
        "colab": {
          "base_uri": "https://localhost:8080/"
        },
        "id": "8s_6-3hLd20Y",
        "outputId": "a928e451-917a-4ab4-ffa3-c10db66f3728"
      },
      "source": [
        "dc.score(xtest,ytest)"
      ],
      "execution_count": 65,
      "outputs": [
        {
          "output_type": "execute_result",
          "data": {
            "text/plain": [
              "0.8878504672897196"
            ]
          },
          "metadata": {
            "tags": []
          },
          "execution_count": 65
        }
      ]
    },
    {
      "cell_type": "code",
      "metadata": {
        "id": "tXVXG5Uce-EU"
      },
      "source": [
        "Dc_pre=dc.predict(xtest)"
      ],
      "execution_count": 66,
      "outputs": []
    },
    {
      "cell_type": "code",
      "metadata": {
        "colab": {
          "base_uri": "https://localhost:8080/"
        },
        "id": "gvC69Rk1fFZB",
        "outputId": "f3f2421c-4101-40cc-876b-fc56f8bbde65"
      },
      "source": [
        "confusion_matrix(ytest,Dc_pre)"
      ],
      "execution_count": 67,
      "outputs": [
        {
          "output_type": "execute_result",
          "data": {
            "text/plain": [
              "array([[31,  3],\n",
              "       [ 9, 64]])"
            ]
          },
          "metadata": {
            "tags": []
          },
          "execution_count": 67
        }
      ]
    },
    {
      "cell_type": "code",
      "metadata": {
        "colab": {
          "base_uri": "https://localhost:8080/"
        },
        "id": "77A4tDxKfZyn",
        "outputId": "b806762a-133c-476a-cad0-55369254d938"
      },
      "source": [
        "print(classification_report(ytest,Dc_pre))"
      ],
      "execution_count": 68,
      "outputs": [
        {
          "output_type": "stream",
          "text": [
            "              precision    recall  f1-score   support\n",
            "\n",
            "           0       0.78      0.91      0.84        34\n",
            "           1       0.96      0.88      0.91        73\n",
            "\n",
            "    accuracy                           0.89       107\n",
            "   macro avg       0.87      0.89      0.88       107\n",
            "weighted avg       0.90      0.89      0.89       107\n",
            "\n"
          ],
          "name": "stdout"
        }
      ]
    },
    {
      "cell_type": "markdown",
      "metadata": {
        "id": "-3LxsKW7rt_T"
      },
      "source": [
        "**Built Support vector Classifier model and show performence by Performance metics**"
      ]
    },
    {
      "cell_type": "code",
      "metadata": {
        "id": "lrIjWJBIfu6M"
      },
      "source": [
        "from sklearn.svm import SVC"
      ],
      "execution_count": 69,
      "outputs": []
    },
    {
      "cell_type": "code",
      "metadata": {
        "id": "lDNhh1lQgH3r"
      },
      "source": [
        "svc=SVC()"
      ],
      "execution_count": 70,
      "outputs": []
    },
    {
      "cell_type": "code",
      "metadata": {
        "colab": {
          "base_uri": "https://localhost:8080/"
        },
        "id": "eR3VGy_NgMIK",
        "outputId": "40133ac5-b431-4f43-f7f4-943d80411781"
      },
      "source": [
        "svc.fit(xtrain,ytrain)"
      ],
      "execution_count": 72,
      "outputs": [
        {
          "output_type": "execute_result",
          "data": {
            "text/plain": [
              "SVC(C=1.0, break_ties=False, cache_size=200, class_weight=None, coef0=0.0,\n",
              "    decision_function_shape='ovr', degree=3, gamma='scale', kernel='rbf',\n",
              "    max_iter=-1, probability=False, random_state=None, shrinking=True,\n",
              "    tol=0.001, verbose=False)"
            ]
          },
          "metadata": {
            "tags": []
          },
          "execution_count": 72
        }
      ]
    },
    {
      "cell_type": "code",
      "metadata": {
        "id": "BMxT2FfmgmMs"
      },
      "source": [
        "svc_p=svc.predict(xtest)"
      ],
      "execution_count": 73,
      "outputs": []
    },
    {
      "cell_type": "code",
      "metadata": {
        "colab": {
          "base_uri": "https://localhost:8080/"
        },
        "id": "NkTH7DBfgtJJ",
        "outputId": "0605ecb9-3378-48b0-d565-664f38c8cc13"
      },
      "source": [
        "accuracy_score(ytest,svc_p)"
      ],
      "execution_count": 74,
      "outputs": [
        {
          "output_type": "execute_result",
          "data": {
            "text/plain": [
              "0.9065420560747663"
            ]
          },
          "metadata": {
            "tags": []
          },
          "execution_count": 74
        }
      ]
    },
    {
      "cell_type": "code",
      "metadata": {
        "colab": {
          "base_uri": "https://localhost:8080/"
        },
        "id": "ttys8-Kqgx-u",
        "outputId": "dda61498-13a6-4b60-87fa-6abd564fe1c5"
      },
      "source": [
        "confusion_matrix(ytest,svc_p)"
      ],
      "execution_count": 75,
      "outputs": [
        {
          "output_type": "execute_result",
          "data": {
            "text/plain": [
              "array([[28,  6],\n",
              "       [ 4, 69]])"
            ]
          },
          "metadata": {
            "tags": []
          },
          "execution_count": 75
        }
      ]
    },
    {
      "cell_type": "code",
      "metadata": {
        "colab": {
          "base_uri": "https://localhost:8080/"
        },
        "id": "sOIgazxRhAF2",
        "outputId": "7f792e58-cde2-4414-b497-8af6c4837962"
      },
      "source": [
        "print(classification_report(ytest,svc_p))"
      ],
      "execution_count": 76,
      "outputs": [
        {
          "output_type": "stream",
          "text": [
            "              precision    recall  f1-score   support\n",
            "\n",
            "           0       0.88      0.82      0.85        34\n",
            "           1       0.92      0.95      0.93        73\n",
            "\n",
            "    accuracy                           0.91       107\n",
            "   macro avg       0.90      0.88      0.89       107\n",
            "weighted avg       0.91      0.91      0.91       107\n",
            "\n"
          ],
          "name": "stdout"
        }
      ]
    },
    {
      "cell_type": "markdown",
      "metadata": {
        "id": "_FfYe7_-sAeB"
      },
      "source": [
        "**Built Gaussian Naive_bayes model and show performence by Performance metics**"
      ]
    },
    {
      "cell_type": "code",
      "metadata": {
        "id": "oX3L-Wf3hYDC"
      },
      "source": [
        "from sklearn.naive_bayes import GaussianNB"
      ],
      "execution_count": 77,
      "outputs": []
    },
    {
      "cell_type": "code",
      "metadata": {
        "id": "GMPKKmLQl0mu"
      },
      "source": [
        "gnb=GaussianNB()"
      ],
      "execution_count": 78,
      "outputs": []
    },
    {
      "cell_type": "code",
      "metadata": {
        "colab": {
          "base_uri": "https://localhost:8080/"
        },
        "id": "h7wJtRC5mEIJ",
        "outputId": "843ea6d2-5091-41fc-aa53-b6cb41787142"
      },
      "source": [
        "gnb.fit(xtrain,ytrain)"
      ],
      "execution_count": 79,
      "outputs": [
        {
          "output_type": "execute_result",
          "data": {
            "text/plain": [
              "GaussianNB(priors=None, var_smoothing=1e-09)"
            ]
          },
          "metadata": {
            "tags": []
          },
          "execution_count": 79
        }
      ]
    },
    {
      "cell_type": "code",
      "metadata": {
        "id": "7wmwx7CKmYmM"
      },
      "source": [
        "gnb_p=gnb.predict(xtest)"
      ],
      "execution_count": 80,
      "outputs": []
    },
    {
      "cell_type": "code",
      "metadata": {
        "colab": {
          "base_uri": "https://localhost:8080/"
        },
        "id": "gVQ-yYgkmtGO",
        "outputId": "2d421d29-cf00-4299-b213-2b87256c55b3"
      },
      "source": [
        "accuracy_score(ytest,gnb_p)"
      ],
      "execution_count": 81,
      "outputs": [
        {
          "output_type": "execute_result",
          "data": {
            "text/plain": [
              "0.897196261682243"
            ]
          },
          "metadata": {
            "tags": []
          },
          "execution_count": 81
        }
      ]
    },
    {
      "cell_type": "code",
      "metadata": {
        "colab": {
          "base_uri": "https://localhost:8080/"
        },
        "id": "b9yrMtu2m9J-",
        "outputId": "e36df5cc-4f38-4a29-e4f8-99d8b3adf752"
      },
      "source": [
        "confusion_matrix(ytest,gnb_p)"
      ],
      "execution_count": 82,
      "outputs": [
        {
          "output_type": "execute_result",
          "data": {
            "text/plain": [
              "array([[31,  3],\n",
              "       [ 8, 65]])"
            ]
          },
          "metadata": {
            "tags": []
          },
          "execution_count": 82
        }
      ]
    },
    {
      "cell_type": "code",
      "metadata": {
        "colab": {
          "base_uri": "https://localhost:8080/"
        },
        "id": "iYVc_BcjnNhZ",
        "outputId": "8e0eb5aa-1529-431f-c53b-c1252876f248"
      },
      "source": [
        "print(classification_report(ytest,gnb_p))"
      ],
      "execution_count": 83,
      "outputs": [
        {
          "output_type": "stream",
          "text": [
            "              precision    recall  f1-score   support\n",
            "\n",
            "           0       0.79      0.91      0.85        34\n",
            "           1       0.96      0.89      0.92        73\n",
            "\n",
            "    accuracy                           0.90       107\n",
            "   macro avg       0.88      0.90      0.89       107\n",
            "weighted avg       0.90      0.90      0.90       107\n",
            "\n"
          ],
          "name": "stdout"
        }
      ]
    }
  ]
}